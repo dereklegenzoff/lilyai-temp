{
 "cells": [
  {
   "cell_type": "code",
   "execution_count": null,
   "id": "23ad4595",
   "metadata": {},
   "outputs": [],
   "source": [
    "import pandas as pd\n",
    "import numpy as np"
   ]
  },
  {
   "cell_type": "code",
   "execution_count": null,
   "id": "c7c07200",
   "metadata": {},
   "outputs": [],
   "source": [
    "catalog = pd.read_excel(\"Microsoft-Lily Demo Product Catalog.xlsx\")\n",
    "attributes = pd.read_csv(\"Microsoft-Lily Demo Catalog Attributes.csv\")"
   ]
  },
  {
   "cell_type": "code",
   "execution_count": null,
   "id": "973dc3bc",
   "metadata": {},
   "outputs": [],
   "source": [
    "catalog.head()"
   ]
  },
  {
   "cell_type": "code",
   "execution_count": null,
   "id": "13664950",
   "metadata": {},
   "outputs": [],
   "source": [
    "attributes.head()"
   ]
  },
  {
   "cell_type": "code",
   "execution_count": null,
   "id": "eddc91fd",
   "metadata": {},
   "outputs": [],
   "source": [
    "import requests\n",
    "\n",
    "service_name = ''\n",
    "api_key = ''\n",
    "\n",
    "index_name = \"lily-ai-v3\"\n",
    "\n",
    "api_version = '2021-04-30-preview'\n",
    "\n",
    "headers = {\n",
    "    \"api-key\": api_key,\n",
    "    \"content-type\": \"application/json\"\n",
    "}"
   ]
  },
  {
   "cell_type": "code",
   "execution_count": null,
   "id": "57597ab1",
   "metadata": {},
   "outputs": [],
   "source": [
    "index_data_url = 'https://{}.search.windows.net/indexes/{}/docs/index?api-version={}'.format(service_name, index_name, api_version)\n",
    "documents = { \"value\": [] }\n",
    "count = 0\n",
    "\n",
    "for index, row in catalog.iterrows():\n",
    "    item = dict(row)\n",
    "    \n",
    "    if str(item['bullet_text']) == \"nan\":\n",
    "        item.pop('bullet_text')\n",
    "    else:\n",
    "        item['bullet_text'] = str(item['bullet_text']).split(\"|\") \n",
    "        item['bullet_text'] = [t.strip() for t in item['bullet_text']]\n",
    "    item['sku_id'] = str(item['sku_id'])\n",
    "    item['parent_id'] = str(item['parent_id'])\n",
    "    item['images'] = item['images'].split(\"|\") \n",
    "    item['images'] = [t.strip() for t in item['images']]\n",
    "    item['product_type'] = item['site_product_type'].lower()\n",
    "    item.pop(\"site_product_type\")\n",
    "    \n",
    "    item['image_urls'] = item['images']\n",
    "    item.pop(\"images\")\n",
    "    \n",
    "    if str(item['product_care']) == \"nan\":\n",
    "        item.pop(\"product_care\")\n",
    "        \n",
    "    if str(item['fabric_content']) == \"nan\":\n",
    "        item.pop(\"fabric_content\")\n",
    "    else:\n",
    "        item['fabric_content'] = [item['fabric_content']]\n",
    "    \n",
    "    #print(item['product_care'])\n",
    "    \n",
    "    matching_attributes = attributes[attributes['sku_id'] == row['sku_id']]\n",
    "    \n",
    "    for a_index, a_row in matching_attributes.iterrows():\n",
    "        key = str(a_row['category']).lower().replace(' ', '_')\n",
    "        if key in item:\n",
    "            item[key].append(str(a_row['attribute']))\n",
    "        else:\n",
    "            item[key] = []\n",
    "            item[key].append(str(a_row['attribute']))\n",
    "        \n",
    "    item[\"@search.action\"] =  \"mergeOrUpload\"\n",
    "    \n",
    "    if \"nan\" in item:\n",
    "        item.pop(\"nan\")\n",
    "    \n",
    "    #print(item)\n",
    "    #break\n",
    "    \n",
    "    documents[\"value\"].append(item)\n",
    "    count += 1\n",
    "    \n",
    "    if count % 1000 == 0:\n",
    "        #print(documents)\n",
    "        #print()\n",
    "        response = requests.post(index_data_url, json = documents, headers=headers)\n",
    "        print(response)\n",
    "        documents = { \"value\": [] }"
   ]
  },
  {
   "cell_type": "code",
   "execution_count": null,
   "id": "f11fceee",
   "metadata": {},
   "outputs": [],
   "source": [
    "\n",
    "\n",
    "\n",
    "\n",
    "    "
   ]
  }
 ],
 "metadata": {
  "kernelspec": {
   "display_name": "Python 3 (ipykernel)",
   "language": "python",
   "name": "python3"
  },
  "language_info": {
   "codemirror_mode": {
    "name": "ipython",
    "version": 3
   },
   "file_extension": ".py",
   "mimetype": "text/x-python",
   "name": "python",
   "nbconvert_exporter": "python",
   "pygments_lexer": "ipython3",
   "version": "3.9.7"
  }
 },
 "nbformat": 4,
 "nbformat_minor": 5
}
